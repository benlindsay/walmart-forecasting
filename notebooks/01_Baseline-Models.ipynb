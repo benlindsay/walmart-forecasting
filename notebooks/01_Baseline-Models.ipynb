{
 "cells": [
  {
   "cell_type": "code",
   "execution_count": 1,
   "metadata": {},
   "outputs": [],
   "source": [
    "%load_ext autoreload\n",
    "%autoreload 2"
   ]
  },
  {
   "cell_type": "code",
   "execution_count": 2,
   "metadata": {},
   "outputs": [],
   "source": [
    "%matplotlib inline\n",
    "from datetime import timedelta\n",
    "from dotenv import find_dotenv\n",
    "from os import makedirs\n",
    "from os.path import dirname\n",
    "from os.path import exists\n",
    "from os.path import join\n",
    "import matplotlib.pyplot as plt\n",
    "import numpy as np\n",
    "import pandas as pd\n",
    "import seaborn as sns\n",
    "\n",
    "from src.load import load_train_df\n",
    "from src.load import load_test_df\n",
    "from src.transform import get_week_by_dept_df\n",
    "from src.transform import unpivot_week_by_dept_df\n",
    "from src.features import make_id_column\n",
    "\n",
    "# Root directory of repo\n",
    "project_dir = dirname(find_dotenv())\n",
    "\n",
    "# Use custom matplotlib style\n",
    "plt.style.use(join(project_dir, 'big-darkgrid.mplstyle'))"
   ]
  },
  {
   "cell_type": "markdown",
   "metadata": {},
   "source": [
    "# Baseline Models\n",
    "\n",
    "Let's look at some simple ways we could model this problem to get a baseline to build from. One way to get pretty far with seasonal data like this is to look at past values and either pick the most recent value from that date or average all the data from past matching dates."
   ]
  },
  {
   "cell_type": "code",
   "execution_count": 3,
   "metadata": {},
   "outputs": [
    {
     "data": {
      "text/html": [
       "<div>\n",
       "<style scoped>\n",
       "    .dataframe tbody tr th:only-of-type {\n",
       "        vertical-align: middle;\n",
       "    }\n",
       "\n",
       "    .dataframe tbody tr th {\n",
       "        vertical-align: top;\n",
       "    }\n",
       "\n",
       "    .dataframe thead th {\n",
       "        text-align: right;\n",
       "    }\n",
       "</style>\n",
       "<table border=\"1\" class=\"dataframe\">\n",
       "  <thead>\n",
       "    <tr style=\"text-align: right;\">\n",
       "      <th>Store_Dept</th>\n",
       "      <th>10_1</th>\n",
       "      <th>10_10</th>\n",
       "      <th>10_11</th>\n",
       "      <th>10_12</th>\n",
       "      <th>10_13</th>\n",
       "      <th>10_14</th>\n",
       "      <th>10_16</th>\n",
       "      <th>10_17</th>\n",
       "      <th>10_18</th>\n",
       "      <th>10_19</th>\n",
       "      <th>...</th>\n",
       "      <th>9_9</th>\n",
       "      <th>9_90</th>\n",
       "      <th>9_91</th>\n",
       "      <th>9_92</th>\n",
       "      <th>9_93</th>\n",
       "      <th>9_94</th>\n",
       "      <th>9_95</th>\n",
       "      <th>9_96</th>\n",
       "      <th>9_97</th>\n",
       "      <th>9_98</th>\n",
       "    </tr>\n",
       "    <tr>\n",
       "      <th>Date</th>\n",
       "      <th></th>\n",
       "      <th></th>\n",
       "      <th></th>\n",
       "      <th></th>\n",
       "      <th></th>\n",
       "      <th></th>\n",
       "      <th></th>\n",
       "      <th></th>\n",
       "      <th></th>\n",
       "      <th></th>\n",
       "      <th></th>\n",
       "      <th></th>\n",
       "      <th></th>\n",
       "      <th></th>\n",
       "      <th></th>\n",
       "      <th></th>\n",
       "      <th></th>\n",
       "      <th></th>\n",
       "      <th></th>\n",
       "      <th></th>\n",
       "      <th></th>\n",
       "    </tr>\n",
       "  </thead>\n",
       "  <tbody>\n",
       "    <tr>\n",
       "      <th>2010-02-05</th>\n",
       "      <td>40212.84</td>\n",
       "      <td>48027.87</td>\n",
       "      <td>36705.57</td>\n",
       "      <td>10365.86</td>\n",
       "      <td>74020.63</td>\n",
       "      <td>55033.94</td>\n",
       "      <td>25694.43</td>\n",
       "      <td>36872.18</td>\n",
       "      <td>8912.27</td>\n",
       "      <td>4046.34</td>\n",
       "      <td>...</td>\n",
       "      <td>7245.32</td>\n",
       "      <td>2335.92</td>\n",
       "      <td>292.64</td>\n",
       "      <td>11620.09</td>\n",
       "      <td>7.58</td>\n",
       "      <td>982.500000</td>\n",
       "      <td>23292.10</td>\n",
       "      <td>2438.08</td>\n",
       "      <td>668.48</td>\n",
       "      <td>1.5</td>\n",
       "    </tr>\n",
       "    <tr>\n",
       "      <th>2010-02-12</th>\n",
       "      <td>67699.32</td>\n",
       "      <td>50595.72</td>\n",
       "      <td>31052.34</td>\n",
       "      <td>9375.25</td>\n",
       "      <td>69145.42</td>\n",
       "      <td>51167.46</td>\n",
       "      <td>24555.89</td>\n",
       "      <td>34782.91</td>\n",
       "      <td>28176.35</td>\n",
       "      <td>3602.73</td>\n",
       "      <td>...</td>\n",
       "      <td>6556.94</td>\n",
       "      <td>2486.18</td>\n",
       "      <td>544.74</td>\n",
       "      <td>11080.50</td>\n",
       "      <td>7.58</td>\n",
       "      <td>982.500000</td>\n",
       "      <td>22317.38</td>\n",
       "      <td>2304.09</td>\n",
       "      <td>766.93</td>\n",
       "      <td>1.5</td>\n",
       "    </tr>\n",
       "    <tr>\n",
       "      <th>2010-02-19</th>\n",
       "      <td>49748.33</td>\n",
       "      <td>51199.72</td>\n",
       "      <td>33224.65</td>\n",
       "      <td>11032.90</td>\n",
       "      <td>68060.96</td>\n",
       "      <td>49011.24</td>\n",
       "      <td>33321.92</td>\n",
       "      <td>34512.54</td>\n",
       "      <td>16244.14</td>\n",
       "      <td>3617.85</td>\n",
       "      <td>...</td>\n",
       "      <td>7301.19</td>\n",
       "      <td>2452.70</td>\n",
       "      <td>424.26</td>\n",
       "      <td>10233.49</td>\n",
       "      <td>7.58</td>\n",
       "      <td>2163.750000</td>\n",
       "      <td>20694.32</td>\n",
       "      <td>1944.11</td>\n",
       "      <td>607.02</td>\n",
       "      <td>1.5</td>\n",
       "    </tr>\n",
       "    <tr>\n",
       "      <th>2010-02-26</th>\n",
       "      <td>33601.22</td>\n",
       "      <td>50028.83</td>\n",
       "      <td>29268.91</td>\n",
       "      <td>11058.90</td>\n",
       "      <td>71517.99</td>\n",
       "      <td>49829.71</td>\n",
       "      <td>27773.67</td>\n",
       "      <td>31175.51</td>\n",
       "      <td>916.25</td>\n",
       "      <td>4207.51</td>\n",
       "      <td>...</td>\n",
       "      <td>7814.18</td>\n",
       "      <td>2386.49</td>\n",
       "      <td>470.43</td>\n",
       "      <td>10786.42</td>\n",
       "      <td>7.58</td>\n",
       "      <td>2059.545455</td>\n",
       "      <td>21780.08</td>\n",
       "      <td>2423.55</td>\n",
       "      <td>580.74</td>\n",
       "      <td>1.5</td>\n",
       "    </tr>\n",
       "    <tr>\n",
       "      <th>2010-03-05</th>\n",
       "      <td>36572.44</td>\n",
       "      <td>49892.15</td>\n",
       "      <td>31934.99</td>\n",
       "      <td>11033.07</td>\n",
       "      <td>70279.43</td>\n",
       "      <td>46865.98</td>\n",
       "      <td>35227.56</td>\n",
       "      <td>33143.03</td>\n",
       "      <td>1426.47</td>\n",
       "      <td>3623.52</td>\n",
       "      <td>...</td>\n",
       "      <td>10540.89</td>\n",
       "      <td>2369.01</td>\n",
       "      <td>679.47</td>\n",
       "      <td>11176.21</td>\n",
       "      <td>7.58</td>\n",
       "      <td>1955.340909</td>\n",
       "      <td>22187.57</td>\n",
       "      <td>2591.28</td>\n",
       "      <td>371.05</td>\n",
       "      <td>1.5</td>\n",
       "    </tr>\n",
       "  </tbody>\n",
       "</table>\n",
       "<p>5 rows × 3331 columns</p>\n",
       "</div>"
      ],
      "text/plain": [
       "Store_Dept      10_1     10_10     10_11     10_12     10_13     10_14  \\\n",
       "Date                                                                     \n",
       "2010-02-05  40212.84  48027.87  36705.57  10365.86  74020.63  55033.94   \n",
       "2010-02-12  67699.32  50595.72  31052.34   9375.25  69145.42  51167.46   \n",
       "2010-02-19  49748.33  51199.72  33224.65  11032.90  68060.96  49011.24   \n",
       "2010-02-26  33601.22  50028.83  29268.91  11058.90  71517.99  49829.71   \n",
       "2010-03-05  36572.44  49892.15  31934.99  11033.07  70279.43  46865.98   \n",
       "\n",
       "Store_Dept     10_16     10_17     10_18    10_19  ...        9_9     9_90  \\\n",
       "Date                                               ...                       \n",
       "2010-02-05  25694.43  36872.18   8912.27  4046.34  ...    7245.32  2335.92   \n",
       "2010-02-12  24555.89  34782.91  28176.35  3602.73  ...    6556.94  2486.18   \n",
       "2010-02-19  33321.92  34512.54  16244.14  3617.85  ...    7301.19  2452.70   \n",
       "2010-02-26  27773.67  31175.51    916.25  4207.51  ...    7814.18  2386.49   \n",
       "2010-03-05  35227.56  33143.03   1426.47  3623.52  ...   10540.89  2369.01   \n",
       "\n",
       "Store_Dept    9_91      9_92  9_93         9_94      9_95     9_96    9_97  \\\n",
       "Date                                                                         \n",
       "2010-02-05  292.64  11620.09  7.58   982.500000  23292.10  2438.08  668.48   \n",
       "2010-02-12  544.74  11080.50  7.58   982.500000  22317.38  2304.09  766.93   \n",
       "2010-02-19  424.26  10233.49  7.58  2163.750000  20694.32  1944.11  607.02   \n",
       "2010-02-26  470.43  10786.42  7.58  2059.545455  21780.08  2423.55  580.74   \n",
       "2010-03-05  679.47  11176.21  7.58  1955.340909  22187.57  2591.28  371.05   \n",
       "\n",
       "Store_Dept  9_98  \n",
       "Date              \n",
       "2010-02-05   1.5  \n",
       "2010-02-12   1.5  \n",
       "2010-02-19   1.5  \n",
       "2010-02-26   1.5  \n",
       "2010-03-05   1.5  \n",
       "\n",
       "[5 rows x 3331 columns]"
      ]
     },
     "execution_count": 3,
     "metadata": {},
     "output_type": "execute_result"
    }
   ],
   "source": [
    "week_by_dept_df = get_week_by_dept_df()\n",
    "week_by_dept_df.head()"
   ]
  },
  {
   "cell_type": "markdown",
   "metadata": {},
   "source": [
    "The dates don't line up perfectly year-by-year, so let's see if just shifting by 52 rows works. "
   ]
  },
  {
   "cell_type": "code",
   "execution_count": 4,
   "metadata": {},
   "outputs": [
    {
     "data": {
      "image/png": "[encoded data removed]",
      "text/plain": [
       "<Figure size 432x288 with 1 Axes>"
      ]
     },
     "metadata": {
      "needs_background": "light"
     },
     "output_type": "display_data"
    }
   ],
   "source": [
    "index = week_by_dept_df.index[:52]\n",
    "for i in range(3):\n",
    "    l, = plt.plot(index, week_by_dept_df.iloc[:52, i])\n",
    "    plt.plot(index, week_by_dept_df.iloc[52:104, i], '--', color=l.get_color())\n",
    "plt.gcf().autofmt_xdate()\n",
    "plt.show()"
   ]
  },
  {
   "cell_type": "markdown",
   "metadata": {},
   "source": [
    "The solid lines below are for the year starting in Feb. 2010, and the dashed lines are for the corresponding dates from the next 52 rows. Christmas and Halloween line up well, and Easter doesn't but that's because it was the 4th in 2010 and the 24th in 2011. So this looks good."
   ]
  },
  {
   "cell_type": "markdown",
   "metadata": {},
   "source": [
    "Before making a baseline, let's set up our evaluation function as described [here](https://www.kaggle.com/c/walmart-recruiting-store-sales-forecasting#evaluation)."
   ]
  },
  {
   "cell_type": "code",
   "execution_count": 5,
   "metadata": {},
   "outputs": [],
   "source": [
    "def wmae(y_pred, y_actual, is_holiday=None, holiday_weight=5):\n",
    "    if is_holiday is None:\n",
    "        test_df = load_test_df()\n",
    "        is_holiday = test_df['IsHoliday']\n",
    "    n = len(y_pred)\n",
    "    assert(n == len(y_actual))\n",
    "    assert(n == len(is_holiday))\n",
    "    weights = np.ones(n)\n",
    "    weights[is_holiday] = holiday_weight\n",
    "    return 1.0 / np.sum(weights) * np.sum(weights * np.abs(y_actual - y_pred))"
   ]
  },
  {
   "cell_type": "code",
   "execution_count": 6,
   "metadata": {},
   "outputs": [],
   "source": [
    "class PrevYearBaseline():\n",
    "    def __init__(self, fillna_method='interpolate'):\n",
    "        self.fillna_method = fillna_method\n",
    "    \n",
    "    def fit(self, X):\n",
    "        \"\"\"Given X with columns 'Store', 'Dept', 'Date', and 'Weekly_Sales',\n",
    "        save data to be accessed by predict\n",
    "        \"\"\"\n",
    "        self.week_by_dept = get_week_by_dept_df(X, fillna_method=self.fillna_method)\n",
    "    \n",
    "    def predict(self, X, return_pivoted=False):\n",
    "        \"\"\"Given X with columns 'Store', 'Dept', and 'Date', predict 'Weekly_Sales'\n",
    "        \"\"\"\n",
    "        X = make_id_column(X)\n",
    "        pred_week_by_dept = get_week_by_dept_df(X, fillna_method=None, values=None)\n",
    "        for c in pred_week_by_dept.columns:\n",
    "            if c not in self.week_by_dept.columns:\n",
    "                self.week_by_dept[c] = self.week_by_dept.mean(axis=1)\n",
    "        \n",
    "        copy_week_by_dept = self.week_by_dept[pred_week_by_dept.columns.tolist()].copy()\n",
    "        copy_week_by_dept.index += timedelta(weeks=52)\n",
    "        pred_week_by_dept = copy_week_by_dept.loc[pred_week_by_dept.index]\n",
    "        if return_pivoted:\n",
    "            return pred_week_by_dept\n",
    "        else:\n",
    "            unpivoted = unpivot_week_by_dept_df(pred_week_by_dept)\n",
    "            unpivoted = make_id_column(unpivoted)\n",
    "            unpivoted = unpivoted.set_index('Id', drop=True)\n",
    "            unpivoted = unpivoted.reindex(X['Id'])\n",
    "            return unpivoted['Weekly_Sales']"
   ]
  },
  {
   "cell_type": "code",
   "execution_count": 7,
   "metadata": {},
   "outputs": [],
   "source": [
    "full_train_df = load_train_df()\n",
    "split_date = full_train_df['Date'].min() + timedelta(weeks=104)\n",
    "train_df = full_train_df[full_train_df['Date']<split_date]\n",
    "test_df = full_train_df[full_train_df['Date']>=split_date]\n",
    "test_df = make_id_column(test_df).set_index('Id', drop=True)\n",
    "test_df, y_actual = test_df[['Store', 'Dept', 'Date', 'IsHoliday']], test_df['Weekly_Sales']"
   ]
  },
  {
   "cell_type": "code",
   "execution_count": 8,
   "metadata": {},
   "outputs": [],
   "source": [
    "bl = PrevYearBaseline()\n",
    "bl.fit(train_df)\n",
    "y_pred = bl.predict(test_df)"
   ]
  },
  {
   "cell_type": "markdown",
   "metadata": {},
   "source": [
    "Error on holdout set on last 39 weeks of data trained on 2 years of data:"
   ]
  },
  {
   "cell_type": "code",
   "execution_count": 9,
   "metadata": {},
   "outputs": [
    {
     "data": {
      "text/plain": [
       "1811.0863308312692"
      ]
     },
     "execution_count": 9,
     "metadata": {},
     "output_type": "execute_result"
    }
   ],
   "source": [
    "wmae(y_pred, y_actual, test_df['IsHoliday'])"
   ]
  },
  {
   "cell_type": "markdown",
   "metadata": {},
   "source": [
    "# Check score on Kaggle"
   ]
  },
  {
   "cell_type": "code",
   "execution_count": 10,
   "metadata": {},
   "outputs": [],
   "source": [
    "bl = PrevYearBaseline()\n",
    "test_df = load_test_df()\n",
    "bl.fit(full_train_df)\n",
    "y_pred = bl.predict(test_df)"
   ]
  },
  {
   "cell_type": "code",
   "execution_count": 11,
   "metadata": {},
   "outputs": [],
   "source": [
    "file_path = join(project_dir, 'data/processed/baseline_kaggle_sub.csv')\n",
    "makedirs(dirname(file_path), exist_ok=True)\n",
    "if not exists(file_path):\n",
    "    y_pred.to_csv(file_path, index=True, header=True)"
   ]
  },
  {
   "cell_type": "markdown",
   "metadata": {},
   "source": [
    "This submission from just looking at last year's value gave a score of 2951, which would put me in position 181 out of 691."
   ]
  }
 ],
 "metadata": {
  "kernelspec": {
   "display_name": "walmart",
   "language": "python",
   "name": "walmart"
  },
  "language_info": {
   "codemirror_mode": {
    "name": "ipython",
    "version": 3
   },
   "file_extension": ".py",
   "mimetype": "text/x-python",
   "name": "python",
   "nbconvert_exporter": "python",
   "pygments_lexer": "ipython3",
   "version": "3.6.6"
  }
 },
 "nbformat": 4,
 "nbformat_minor": 2
}
